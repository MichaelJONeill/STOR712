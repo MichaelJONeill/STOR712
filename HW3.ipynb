{
 "cells": [
  {
   "attachments": {},
   "cell_type": "markdown",
   "metadata": {},
   "source": [
    "### Homework 3"
   ]
  },
  {
   "attachments": {},
   "cell_type": "markdown",
   "metadata": {},
   "source": [
    "Import and clean the data."
   ]
  },
  {
   "cell_type": "code",
   "execution_count": 159,
   "metadata": {},
   "outputs": [],
   "source": [
    "import numpy as np\n",
    "import pandas as pd\n",
    "#Used to split into train and test set\n",
    "from sklearn.model_selection import train_test_split\n",
    "from sklearn.preprocessing import normalize\n",
    "\n",
    "\n",
    "#Assumes that the dataset is in the current working directory under the name 'SkyData.csv'\n",
    "df = pd.read_csv('SkyData.csv')\n",
    "\n",
    "#Delete some irrelevant columns\n",
    "df.drop(['objid', 'rerun', 'specobjid', 'plate', 'mjd'], axis=1, inplace=True)\n",
    "\n",
    "#Remove the Quasar class from the dataframe (makes the problem binary classification)\n",
    "df = df[df['class']!='QSO']\n",
    "\n",
    "#Change class labels from string to 0 and 1\n",
    "df['class'] = pd.factorize(df['class'])[0]\n",
    "\n",
    "#Create a dataframe without the class label\n",
    "Adf = df.drop('class', axis = 1)\n",
    "\n",
    "#Convert the dataframe to a numpy array\n",
    "A = Adf.to_numpy()\n",
    "\n",
    "A = normalize(A)\n",
    "\n",
    "\n",
    "#Add an extra column of ones to the data so the linear model has an offset\n",
    "A = np.hstack((A, np.ones((A.shape[0], 1), dtype=A.dtype)))\n",
    "\n",
    "#Create a dataframe of only the class labels\n",
    "ydf = df['class']\n",
    "\n",
    "#Convert ydf to a numpy array\n",
    "y = ydf.to_numpy()\n",
    "\n",
    "#Split data into train and test set\n",
    "A_train,A_test,y_train,y_test = train_test_split(A, y, test_size=0.2)"
   ]
  }
 ],
 "metadata": {
  "kernelspec": {
   "display_name": "Python 3",
   "language": "python",
   "name": "python3"
  },
  "language_info": {
   "codemirror_mode": {
    "name": "ipython",
    "version": 3
   },
   "file_extension": ".py",
   "mimetype": "text/x-python",
   "name": "python",
   "nbconvert_exporter": "python",
   "pygments_lexer": "ipython3",
   "version": "3.11.2"
  },
  "orig_nbformat": 4,
  "vscode": {
   "interpreter": {
    "hash": "fc0521d73723d578bb29ab2609a41e433193533effbf9bc11ccfb972d3624215"
   }
  }
 },
 "nbformat": 4,
 "nbformat_minor": 2
}
